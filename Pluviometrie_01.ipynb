{
 "cells": [
  {
   "cell_type": "markdown",
   "metadata": {},
   "source": [
    "# Introduction"
   ]
  },
  {
   "cell_type": "markdown",
   "metadata": {},
   "source": [
    "**Cet exercice a initialement été fait lors d'une séance de travaux dirigé pendant ma deuxième année de master. L'exercice avais été fait sur matlab et j'ai décidé de le refaire en python pour m'entrainer et me familiariser avec les differentes bibliothèques de machine learning.**"
   ]
  },
  {
   "cell_type": "markdown",
   "metadata": {
    "id": "U6VfjbGJOf4Y"
   },
   "source": [
    "**L'objectif du projet est de creer un modèle de réseaux de neurones capable de prédire le débit d'une rivière, dans notre cas, la rivière du Têt. La rivière étant un bassin versant , elle est alimentée et impactée par la pluviométrie des villes alentours (littoral, lac, terres humides,etc) a savoir : Le Soler, Vinça, Thuir et Canohès.**\n",
    "\n",
    "\n",
    "**Les mesures de pluviométrie des villes et du débit moyen de la rivière ont été recueillis tout les jours pendant une année. Nous allons donc nous servir de ces données en les séparant afin de pouvoir entrainer et valider notre modèle neuronal. \n",
    "L'objectif est donc de prédire le débit moyen du fleuve en fonction du mois et de la pluviométrie des différentes villes.**\n",
    "\n",
    "**Le fichier de données dont nous disposons est un fichier texte(.txt) composé de 365 lignes et 6 colonnes où chaque ligne répresente à une mesure faite sur differents lieux.**"
   ]
  },
  {
   "cell_type": "markdown",
   "metadata": {
    "id": "q3dj1BJgyZfy"
   },
   "source": [
    "Voici comment sont définis les différentes étapes de notre projet :\n",
    "1. Chargement des librairies et des données\n",
    "2. Visualisation et traitement des données \n",
    "  *   2.1 Traiter les données de tel sorte a n'avoir que des données utiles\n",
    "  *   2.2 Normalisation des données\n",
    "\n",
    "3. Séparation des données en deux catégorie : entrainement et validation\n",
    "4. Création du modèle neuronal\n",
    "5. Entrainement du modèle\n",
    "6. Validation du modèle\n",
    "7. Comparaison des modèles/ calcul du taux d'erreur final"
   ]
  },
  {
   "cell_type": "markdown",
   "metadata": {
    "id": "6Lm0VeI2139m"
   },
   "source": [
    "# 1. Chargement des données et des librairies"
   ]
  },
  {
   "cell_type": "code",
   "execution_count": 2,
   "metadata": {
    "colab": {
     "base_uri": "https://localhost:8080/",
     "height": 72,
     "resources": {
      "http://localhost:8080/nbextensions/google.colab/files.js": {
       "data": "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",
       "headers": [
        [
         "content-type",
         "application/javascript"
        ]
       ],
       "ok": true,
       "status": 200,
       "status_text": ""
      }
     }
    },
    "id": "C51fvgFI0d62",
    "outputId": "6d9f9516-3f44-453d-dca1-768619b0c6cd"
   },
   "outputs": [],
   "source": [
    "import numpy as np\n",
    "import pandas as pd\n",
    "import matplotlib.pyplot as plt\n",
    "from sklearn import preprocessing\n",
    "from sklearn.preprocessing import MinMaxScaler\n",
    "from sklearn.model_selection import train_test_split\n",
    "\n",
    "from tensorflow import keras\n",
    "from tensorflow.keras.models import Sequential\n",
    "from tensorflow.keras.layers import Dense, LSTM, Dropout\n",
    "from keras.callbacks import EarlyStopping\n",
    "\n",
    "import math\n",
    "from sklearn.metrics import mean_squared_error\n",
    "\n",
    "pluie = np.loadtxt('mesures_pluie.txt')"
   ]
  },
  {
   "cell_type": "markdown",
   "metadata": {
    "id": "f-Eu3y6t2CL-"
   },
   "source": [
    "# 2.1 Traitement des données"
   ]
  },
  {
   "cell_type": "markdown",
   "metadata": {
    "id": "iIo2x8AOq2Rz"
   },
   "source": [
    "**Le fichier de données dont nous disposons est un fichier texte(.txt)**"
   ]
  },
  {
   "cell_type": "code",
   "execution_count": 3,
   "metadata": {
    "colab": {
     "base_uri": "https://localhost:8080/"
    },
    "id": "caTW5PMY2Nk8",
    "outputId": "946f48df-9c7d-42bd-f6c0-5e65e09e4958"
   },
   "outputs": [
    {
     "name": "stdout",
     "output_type": "stream",
     "text": [
      "la taille du tableau des mesures initiales est :(365, 6)\n"
     ]
    }
   ],
   "source": [
    "print(\"la taille du tableau des mesures initiales est :{}\".format(pluie.shape))"
   ]
  },
  {
   "cell_type": "markdown",
   "metadata": {
    "id": "si60j1sDSK-u"
   },
   "source": [
    "**Afin de mieux pouvoir manipuler les données, j'ai créer un DataFrame.**\n",
    "\n",
    "**Nous avons donc un tableau composé de 365 lignes et 6 colonnes réprésentant le mois et les villes où ont été faite les mesures. La dernière colonne représente le débit moyen de la rivière.**\n"
   ]
  },
  {
   "cell_type": "code",
   "execution_count": 4,
   "metadata": {
    "colab": {
     "base_uri": "https://localhost:8080/"
    },
    "id": "blOTdq7OYg7s",
    "outputId": "d5da8756-49ae-432c-c0be-f0d623572bf1"
   },
   "outputs": [
    {
     "name": "stdout",
     "output_type": "stream",
     "text": [
      "       Mois  Soler  Vinça  Thuir  Canohes  Debit moyen\n",
      "Jours                                                 \n",
      "0       1.0    0.0    0.0    0.0      0.0        0.854\n",
      "1       1.0    0.0    0.0    0.0      0.0        1.370\n",
      "2       1.0    5.0   10.0   20.0     10.0        2.260\n",
      "3       1.0   28.0   15.0    0.0      5.0        2.120\n",
      "4       1.0    0.0    0.0    0.0      0.0        2.120\n",
      "5       1.0    0.0    0.0    0.0      0.0        2.150\n",
      "6       1.0    0.0    0.0    0.0      0.0        2.520\n",
      "7       1.0    0.0    0.0    0.0      0.0        2.390\n",
      "8       1.0    0.0    0.0    0.0      0.0        2.410\n",
      "9       1.0   50.0   10.0   29.0      0.0        2.460\n",
      "10      1.0   14.0   10.0    0.0      0.0        2.270\n",
      "11      1.0   10.0    0.0   14.0      0.0        2.170\n",
      "12      1.0    4.0    5.0    0.0      0.0        2.110\n",
      "13      1.0    0.0    0.0    0.0      0.0        2.060\n",
      "14      1.0    0.0    0.0    0.0      5.0        2.200\n",
      "15      1.0    0.0    0.0    0.0      5.0        0.956\n",
      "16      1.0    0.0    0.0    0.0      0.0        0.943\n",
      "17      1.0    0.0    0.0    0.0      0.0        0.903\n",
      "18      1.0    0.0    0.0    0.0      0.0        0.957\n",
      "19      1.0    7.0    0.0    0.0      0.0        1.010\n"
     ]
    }
   ],
   "source": [
    "df1 = pd.DataFrame(pluie)\n",
    "#df1.columns = ['Mois','Soler','Vinça','Thuir','Canohes','Debit moyen']\n",
    "col_names = ['Mois','Soler','Vinça','Thuir','Canohes','Debit moyen']\n",
    "df1.columns = col_names\n",
    "df1.index.name = 'Jours'\n",
    "print(df1.head(20))"
   ]
  },
  {
   "cell_type": "code",
   "execution_count": 5,
   "metadata": {
    "colab": {
     "base_uri": "https://localhost:8080/",
     "height": 1000
    },
    "id": "g_dcFKxVrsog",
    "outputId": "b374cf87-cddb-4073-f26c-da80c691e459"
   },
   "outputs": [
    {
     "data": {
      "image/png": "[encoded data removed]",
      "text/plain": [
       "<Figure size 432x288 with 1 Axes>"
      ]
     },
     "metadata": {
      "needs_background": "light"
     },
     "output_type": "display_data"
    },
    {
     "data": {
      "image/png": "[encoded data removed]",
      "text/plain": [
       "<Figure size 432x288 with 1 Axes>"
      ]
     },
     "metadata": {
      "needs_background": "light"
     },
     "output_type": "display_data"
    },
    {
     "data": {
      "image/png": "[encoded data removed]",
      "text/plain": [
       "<Figure size 432x288 with 1 Axes>"
      ]
     },
     "metadata": {
      "needs_background": "light"
     },
     "output_type": "display_data"
    },
    {
     "data": {
      "image/png": "[encoded data removed]",
      "text/plain": [
       "<Figure size 432x288 with 1 Axes>"
      ]
     },
     "metadata": {
      "needs_background": "light"
     },
     "output_type": "display_data"
    },
    {
     "data": {
      "image/png": "[encoded data removed]",
      "text/plain": [
       "<Figure size 432x288 with 1 Axes>"
      ]
     },
     "metadata": {
      "needs_background": "light"
     },
     "output_type": "display_data"
    }
   ],
   "source": [
    "\n",
    "plt.plot(df1['Mois'],df1['Soler'],color= 'blue')\n",
    "plt.title('pluviométrie journaliere du Soler')\n",
    "plt.xlabel('Mois de l année')\n",
    "plt.ylabel('Pluviométrie')\n",
    "plt.show()\n",
    "\n",
    "plt.plot(df1['Mois'],df1['Vinça'], color= 'red')\n",
    "plt.title('pluviométrie mensuelle de Vinça')\n",
    "plt.xlabel('Mois de l année')\n",
    "plt.ylabel('Pluviométrie')\n",
    "plt.show()\n",
    "\n",
    "plt.plot(df1['Mois'],df1['Thuir'], color= 'green')\n",
    "plt.title('pluviométrie mensuelle de Thuir')\n",
    "plt.xlabel('Mois de l année')\n",
    "plt.ylabel('Pluviométrie')\n",
    "plt.show()\n",
    "\n",
    "plt.plot(df1['Mois'],df1['Canohes'], color= 'orange')\n",
    "plt.title('pluviométrie mensuelle de Canohes')\n",
    "plt.xlabel('Mois de l année')\n",
    "plt.ylabel('Pluviométrie')\n",
    "plt.show()\n",
    "\n",
    "plt.plot(df1['Mois'],df1['Debit moyen'], color= 'cyan')\n",
    "plt.title('Débit moyen de la rivière')\n",
    "plt.xlabel('Mois de l année')\n",
    "plt.ylabel('Pluviométrie')\n",
    "plt.show()\n"
   ]
  },
  {
   "cell_type": "code",
   "execution_count": 6,
   "metadata": {
    "id": "3AmZdjhESFXL"
   },
   "outputs": [],
   "source": [
    "# plt.figure(1)\n",
    "# plt.subplot(221)\n",
    "# # plt.title('pluviométrie journaliere du Soler')\n",
    "# # plt.xlabel('Mois de l année')\n",
    "# # plt.ylabel('Pluviométrie')\n",
    "# # plt.legend()\n",
    "# plt.plot(df1['Mois'],df1['Soler'])\n",
    "\n",
    "# plt.subplot(222)\n",
    "# plt.plot(df1['Mois'],df1['Vinça'])\n",
    "\n",
    "\n",
    "# plt.subplot(223)\n",
    "# plt.plot(df1['Mois'],df1['Thuir'])\n",
    "\n",
    "\n",
    "# plt.subplot(224)\n",
    "# plt.plot(df1['Mois'],df1['Canohes'])"
   ]
  },
  {
   "cell_type": "markdown",
   "metadata": {
    "id": "8sZ0_JxvkeCA"
   },
   "source": [
    "**Un phénomène pluvieux est caractérisé par la somme non nulle des pluviométrie des 4 villes.**\n",
    "**Ici par exemple , on peut voir que les deux premières lignes ne montre pas de phénomènes pluvieux. La pluviométrie du Soler, de Vinça, de Thuir et Canohès n'affectent en aucun cas le débit moyen de la rivière.**\n",
    "\n",
    "**Ces lignes n'étant donc pas utiles pour l'apprentissage de notre réseaux de neurones , il est donc préférable de les supprimer.**\n"
   ]
  },
  {
   "cell_type": "code",
   "execution_count": 7,
   "metadata": {
    "colab": {
     "base_uri": "https://localhost:8080/"
    },
    "id": "o-8XPIEnm3KG",
    "outputId": "2bb9264e-25cb-4773-83e6-22cc303b34af"
   },
   "outputs": [
    {
     "name": "stdout",
     "output_type": "stream",
     "text": [
      "       Mois  Soler  Vinça  Thuir  Canohes  Debit moyen\n",
      "Jours                                                 \n",
      "0       1.0    0.0    0.0    0.0      0.0        0.854\n",
      "1       1.0    0.0    0.0    0.0      0.0        1.370\n",
      "2       1.0    5.0   10.0   20.0     10.0        2.260\n",
      "3       1.0   28.0   15.0    0.0      5.0        2.120\n",
      "4       1.0    0.0    0.0    0.0      0.0        2.120\n"
     ]
    }
   ],
   "source": [
    "print(df1.head(5))"
   ]
  },
  {
   "cell_type": "code",
   "execution_count": 8,
   "metadata": {
    "colab": {
     "base_uri": "https://localhost:8080/"
    },
    "id": "9XmXZMrg-ufD",
    "outputId": "bfc1f2df-1e5a-49f0-9dec-a481b146bb7e"
   },
   "outputs": [
    {
     "name": "stdout",
     "output_type": "stream",
     "text": [
      "Dimensions du dataframe apres filtrage: (137, 6)\n",
      "\n",
      "       Mois  Soler  Vinça  Thuir  Canohes  Debit moyen\n",
      "Jours                                                 \n",
      "2       1.0    5.0   10.0   20.0     10.0        2.260\n",
      "3       1.0   28.0   15.0    0.0      5.0        2.120\n",
      "9       1.0   50.0   10.0   29.0      0.0        2.460\n",
      "10      1.0   14.0   10.0    0.0      0.0        2.270\n",
      "11      1.0   10.0    0.0   14.0      0.0        2.170\n",
      "12      1.0    4.0    5.0    0.0      0.0        2.110\n",
      "14      1.0    0.0    0.0    0.0      5.0        2.200\n",
      "15      1.0    0.0    0.0    0.0      5.0        0.956\n",
      "19      1.0    7.0    0.0    0.0      0.0        1.010\n",
      "22      1.0    0.0    0.0    0.0     10.0        0.972\n",
      "34      2.0    0.0    0.0   30.0      0.0        1.480\n",
      "35      2.0   59.0   50.0   20.0     40.0        1.770\n",
      "36      2.0   14.0   20.0    0.0     30.0        2.130\n",
      "43      2.0    1.0    0.0    0.0      0.0        0.810\n",
      "46      2.0   10.0   30.0   30.0     35.0        1.220\n",
      "47      2.0   12.0    5.0    5.0     15.0        0.747\n",
      "50      2.0   61.0   10.0   10.0      5.0        0.448\n",
      "51      2.0    9.0    0.0    0.0      0.0        0.462\n",
      "53      2.0    0.0    0.0    0.0     10.0        0.448\n",
      "60      3.0   18.0   15.0   25.0      5.0        0.538\n"
     ]
    }
   ],
   "source": [
    "#---Création d'un masque n'affichant que les phénomènes pluvieux \n",
    "sup_zero = (\n",
    "    (df1['Soler'] + df1['Vinça'] + df1['Thuir'] + df1['Canohes'])>0\n",
    ")\n",
    "df2 = df1[sup_zero]\n",
    "print(f\"Dimensions du dataframe apres filtrage: {df2.shape}\\n\")\n",
    "print(df2.head(20))"
   ]
  },
  {
   "cell_type": "markdown",
   "metadata": {
    "id": "ECE6l5-PncZf"
   },
   "source": [
    "**En filtrant nos données nous passons d'un tableau composés de 365 lignes, à un tableau composé de 137 lignes.**"
   ]
  },
  {
   "cell_type": "markdown",
   "metadata": {
    "id": "ESUGIIz62Op6"
   },
   "source": [
    "# 2.2 Normalisation "
   ]
  },
  {
   "cell_type": "markdown",
   "metadata": {
    "id": "5toO_3YWnjIM"
   },
   "source": [
    "**Afin que notre réseau ne privilégie pas une grandeur par rapport à d'autres lors de la phase d'apprentissage, il est conseillé de normaliser les données entre 0 et 1.**"
   ]
  },
  {
   "cell_type": "code",
   "execution_count": 9,
   "metadata": {
    "colab": {
     "base_uri": "https://localhost:8080/"
    },
    "id": "6tZq8w2P8wh2",
    "outputId": "fabf79f4-1724-4a10-d475-93795a3b3b9c"
   },
   "outputs": [
    {
     "name": "stdout",
     "output_type": "stream",
     "text": [
      "       Mois     Soler     Vinça     Thuir   Canohes  Debit moyen\n",
      "Jours                                                           \n",
      "2       0.0  0.003891  0.010526  0.013072  0.007634     0.003867\n",
      "3       0.0  0.021790  0.015789  0.000000  0.003817     0.003568\n",
      "9       0.0  0.038911  0.010526  0.018954  0.000000     0.004294\n",
      "10      0.0  0.010895  0.010526  0.000000  0.000000     0.003889\n",
      "11      0.0  0.007782  0.000000  0.009150  0.000000     0.003675\n",
      "...     ...       ...       ...       ...       ...          ...\n",
      "350     1.0  0.000778  0.000000  0.000000  0.000000     0.010569\n",
      "355     1.0  0.001556  0.000000  0.000000  0.000000     0.015243\n",
      "356     1.0  0.000778  0.000000  0.000000  0.000000     0.010035\n",
      "361     1.0  0.000778  0.000000  0.000000  0.000000     0.008456\n",
      "363     1.0  0.007004  0.000000  0.000000  0.000000     0.008413\n",
      "\n",
      "[137 rows x 6 columns]\n"
     ]
    }
   ],
   "source": [
    "#----Code correct ----\n",
    "df_norm=((df2-df2.min())/(df2.max()-df2.min()))\n",
    "print(df_norm)"
   ]
  },
  {
   "cell_type": "markdown",
   "metadata": {
    "id": "mOhcJ9jUoAty"
   },
   "source": [
    "**Pour maximiser les résultats et éviter les phénomènes de sur-apprentissage il peut aussi être utile de mélanger l'odre chronologiques, l'ordre de présentation des données.**"
   ]
  },
  {
   "cell_type": "code",
   "execution_count": 10,
   "metadata": {
    "colab": {
     "base_uri": "https://localhost:8080/"
    },
    "id": "Ezcs_to4bOuC",
    "outputId": "66ef3f5b-02c5-463e-fae9-71c84667d52d"
   },
   "outputs": [
    {
     "name": "stdout",
     "output_type": "stream",
     "text": [
      "           Mois     Soler     Vinça     Thuir   Canohes  Debit moyen\n",
      "Jours                                                               \n",
      "170    0.454545  0.000000  0.026316  0.000000  0.000000     0.018017\n",
      "282    0.818182  0.062257  0.031579  0.078431  0.152672     0.018273\n",
      "309    0.909091  0.038911  0.063158  0.032680  0.061069     0.002992\n",
      "11     0.000000  0.007782  0.000000  0.009150  0.000000     0.003675\n",
      "294    0.818182  0.018677  0.010526  0.003268  0.003817     0.005937\n",
      "...         ...       ...       ...       ...       ...          ...\n",
      "289    0.818182  0.000778  0.000000  0.000000  0.000000     0.014901\n",
      "155    0.454545  0.112840  0.047368  0.078431  0.072519     0.038527\n",
      "63     0.181818  0.181323  0.568421  0.228758  0.538168     0.019042\n",
      "216    0.636364  0.125292  0.189474  0.035948  0.061069     0.004443\n",
      "332    0.909091  0.101167  0.000000  0.006536  0.003817     0.017249\n",
      "\n",
      "[137 rows x 6 columns]\n"
     ]
    }
   ],
   "source": [
    "#-------- mélange des différentes lignes du dataframe ------------\n",
    "df_norm = df_norm.sample(frac = 1)\n",
    "print(df_norm)"
   ]
  },
  {
   "cell_type": "code",
   "execution_count": 11,
   "metadata": {
    "id": "lBkq5s_EZFFv"
   },
   "outputs": [],
   "source": [
    "#----Ce code supprime les titres des colonnes du dataframe...pas optimal ----\n",
    "# scaler = MinMaxScaler(feature_range=(0, 1))\n",
    "# df2_norm_test = scaler.fit_transform(df2)\n",
    "# print(f\"Shape de df2 normalisé: {df2_norm.shape}\\n\")\n",
    "# print(df2_norm_test[0:12,:])"
   ]
  },
  {
   "cell_type": "markdown",
   "metadata": {
    "id": "ZyymvVIj-kMB"
   },
   "source": [
    "# 3. Separation des données"
   ]
  },
  {
   "cell_type": "markdown",
   "metadata": {
    "id": "Xan9JerxofQ-"
   },
   "source": [
    "**Cette partie consiste tout simplement a séparer les données. Une partie servira a la phase d'entraînement et l'autre a la phase de validation.**<br>\n",
    "**De manière générale 80% des données sont utilisés pour la phase d'entrainement et 20% pour la phase de validation.**"
   ]
  },
  {
   "cell_type": "code",
   "execution_count": 12,
   "metadata": {
    "colab": {
     "base_uri": "https://localhost:8080/"
    },
    "id": "Z0IDFSqZDvgm",
    "outputId": "08c79521-6027-4a24-8809-76ab63abecc5"
   },
   "outputs": [
    {
     "name": "stdout",
     "output_type": "stream",
     "text": [
      "137\n",
      "La tailles des données d'entrainement est :110\n",
      "La tailles des données de test est :27\n"
     ]
    }
   ],
   "source": [
    "print(df_norm.shape[0])\n",
    "taille_train = int(round(df_norm.shape[0]*0.80))\n",
    "taille_test = int(round(df_norm.shape[0]*0.20))\n",
    "print(f\"La tailles des données d'entrainement est :{taille_train}\")\n",
    "print(f\"La tailles des données de test est :{taille_test}\")"
   ]
  },
  {
   "cell_type": "code",
   "execution_count": 13,
   "metadata": {
    "colab": {
     "base_uri": "https://localhost:8080/"
    },
    "id": "CUBoCfQyFUGI",
    "outputId": "83d9518e-ef4a-40d4-f480-297a57a8bfe2"
   },
   "outputs": [
    {
     "name": "stdout",
     "output_type": "stream",
     "text": [
      "df norm head:\n",
      "           Mois     Soler     Vinça     Thuir   Canohes  Debit moyen\n",
      "Jours                                                               \n",
      "170    0.454545  0.000000  0.026316  0.000000  0.000000     0.018017\n",
      "282    0.818182  0.062257  0.031579  0.078431  0.152672     0.018273\n",
      "309    0.909091  0.038911  0.063158  0.032680  0.061069     0.002992\n",
      "11     0.000000  0.007782  0.000000  0.009150  0.000000     0.003675\n",
      "294    0.818182  0.018677  0.010526  0.003268  0.003817     0.005937\n",
      "\n",
      "           Mois     Soler     Vinça     Thuir   Canohes  Debit moyen\n",
      "Jours                                                               \n",
      "170    0.454545  0.000000  0.026316  0.000000  0.000000     0.018017\n",
      "282    0.818182  0.062257  0.031579  0.078431  0.152672     0.018273\n",
      "309    0.909091  0.038911  0.063158  0.032680  0.061069     0.002992\n",
      "11     0.000000  0.007782  0.000000  0.009150  0.000000     0.003675\n",
      "294    0.818182  0.018677  0.010526  0.003268  0.003817     0.005937\n"
     ]
    }
   ],
   "source": [
    "data = df_norm.copy()\n",
    "print(f\"df norm head:\\n{df_norm.head(5)}\\n\")\n",
    "print(data.iloc[0:5])"
   ]
  },
  {
   "cell_type": "code",
   "execution_count": 14,
   "metadata": {
    "colab": {
     "base_uri": "https://localhost:8080/"
    },
    "id": "Pyo_tvDjJXx5",
    "outputId": "826c7731-4a5c-44ab-ad59-fbe3f8c720bf"
   },
   "outputs": [
    {
     "name": "stdout",
     "output_type": "stream",
     "text": [
      "Voici X_train:\n",
      "           Mois     Soler     Vinça     Thuir   Canohes\n",
      "Jours                                                  \n",
      "170    0.454545  0.000000  0.026316  0.000000  0.000000\n",
      "282    0.818182  0.062257  0.031579  0.078431  0.152672\n",
      "309    0.909091  0.038911  0.063158  0.032680  0.061069\n",
      "11     0.000000  0.007782  0.000000  0.009150  0.000000\n",
      "294    0.818182  0.018677  0.010526  0.003268  0.003817\n",
      "...         ...       ...       ...       ...       ...\n",
      "60     0.181818  0.014008  0.015789  0.016340  0.003817\n",
      "2      0.000000  0.003891  0.010526  0.013072  0.007634\n",
      "129    0.363636  0.004669  0.000000  0.013072  0.000000\n",
      "255    0.727273  0.011673  0.000000  0.000000  0.000000\n",
      "200    0.545455  0.007782  0.015789  0.006536  0.000000\n",
      "\n",
      "[110 rows x 5 columns]\n",
      "\n",
      "Voici Y_train:\n",
      "       Debit moyen\n",
      "Jours             \n",
      "170       0.018017\n",
      "282       0.018273\n",
      "309       0.002992\n",
      "11        0.003675\n",
      "294       0.005937\n",
      "...            ...\n",
      "60        0.000192\n",
      "2         0.003867\n",
      "129       0.331984\n",
      "255       0.023588\n",
      "200       0.006706\n",
      "\n",
      "[110 rows x 1 columns]\n",
      "\n"
     ]
    }
   ],
   "source": [
    "#- - - Données d'entrainement - - -\n",
    "X_train = data.iloc[0:taille_train,0:5]\n",
    "Y_train = data.iloc[0:taille_train,5:]\n",
    "print(f\"Voici X_train:\\n{X_train}\\n\")\n",
    "print(f\"Voici Y_train:\\n{Y_train}\\n\")"
   ]
  },
  {
   "cell_type": "code",
   "execution_count": 15,
   "metadata": {
    "colab": {
     "base_uri": "https://localhost:8080/"
    },
    "id": "1sTW0uAcKB2r",
    "outputId": "7c14d4cd-e678-4366-c270-9884d85dd465"
   },
   "outputs": [
    {
     "name": "stdout",
     "output_type": "stream",
     "text": [
      "Voici X_test:\n",
      "           Mois     Soler     Vinça     Thuir   Canohes\n",
      "Jours                                                  \n",
      "295    0.818182  0.000000  0.000000  0.003268  0.000000\n",
      "215    0.636364  0.000000  0.005263  0.000000  0.000000\n",
      "87     0.181818  0.019455  0.031579  0.034641  0.083969\n",
      "363    1.000000  0.007004  0.000000  0.000000  0.000000\n",
      "128    0.363636  0.017121  0.010526  0.045752  0.003817\n",
      "242    0.636364  0.010895  0.000000  0.000000  0.000000\n",
      "310    0.909091  0.059144  0.005263  0.008497  0.003817\n",
      "62     0.181818  0.000000  0.126316  0.052288  0.003817\n",
      "15     0.000000  0.000000  0.000000  0.000000  0.003817\n",
      "22     0.000000  0.000000  0.000000  0.000000  0.007634\n",
      "249    0.727273  0.005447  0.000000  0.000000  0.000000\n",
      "19     0.000000  0.005447  0.000000  0.000000  0.000000\n",
      "230    0.636364  0.007782  0.021053  0.000000  0.000000\n",
      "293    0.818182  0.008560  0.026316  0.019608  0.007634\n",
      "35     0.090909  0.045914  0.052632  0.013072  0.030534\n",
      "328    0.909091  0.000000  0.031579  0.000000  0.000000\n",
      "185    0.545455  0.000000  0.000000  0.013072  0.000000\n",
      "99     0.272727  0.165759  0.421053  0.307190  0.358779\n",
      "192    0.545455  0.023346  0.073684  0.014379  0.007634\n",
      "227    0.636364  0.002335  0.000000  0.000000  0.000000\n",
      "98     0.272727  0.017899  0.000000  0.065359  0.064885\n",
      "209    0.545455  0.023346  0.000000  0.000000  0.000000\n",
      "289    0.818182  0.000778  0.000000  0.000000  0.000000\n",
      "155    0.454545  0.112840  0.047368  0.078431  0.072519\n",
      "63     0.181818  0.181323  0.568421  0.228758  0.538168\n",
      "216    0.636364  0.125292  0.189474  0.035948  0.061069\n",
      "332    0.909091  0.101167  0.000000  0.006536  0.003817\n",
      "\n",
      "Voici Y_test:\n",
      "       Debit moyen\n",
      "Jours             \n",
      "295       0.006300\n",
      "215       0.003761\n",
      "87        0.003568\n",
      "363       0.008413\n",
      "128       1.000000\n",
      "242       0.029777\n",
      "310       0.003291\n",
      "62        0.000975\n",
      "15        0.001084\n",
      "22        0.001118\n",
      "249       0.021240\n",
      "19        0.001199\n",
      "230       0.009331\n",
      "293       0.007367\n",
      "35        0.002821\n",
      "328       0.020813\n",
      "185       0.004764\n",
      "99        0.073529\n",
      "192       0.003035\n",
      "227       0.007709\n",
      "98        0.082066\n",
      "209       0.003568\n",
      "289       0.014901\n",
      "155       0.038527\n",
      "63        0.019042\n",
      "216       0.004443\n",
      "332       0.017249\n",
      "\n"
     ]
    }
   ],
   "source": [
    "#- - - Données de validation - - -\n",
    "X_test = data.iloc[taille_train:,0:5]\n",
    "Y_test = data.iloc[taille_train:,5:]\n",
    "print(f\"Voici X_test:\\n{X_test}\\n\")\n",
    "print(f\"Voici Y_test:\\n{Y_test}\\n\")"
   ]
  },
  {
   "cell_type": "code",
   "execution_count": 16,
   "metadata": {
    "colab": {
     "base_uri": "https://localhost:8080/"
    },
    "id": "IUm-pcy_Kc-L",
    "outputId": "229d8f27-98a2-4ba9-ea0d-c2276c89445e"
   },
   "outputs": [
    {
     "name": "stdout",
     "output_type": "stream",
     "text": [
      "Vérification des données d'entrainement :\n",
      "X_train (110, 5) et Y_train (110, 1)\n",
      "\n",
      "Vérification des données de validation :\n",
      "X_test (27, 5) et Y_test (27, 1)\n",
      "\n"
     ]
    }
   ],
   "source": [
    "print(f\"Vérification des données d'entrainement :\\nX_train {X_train.shape} et Y_train {Y_train.shape}\\n\")\n",
    "print(f\"Vérification des données de validation :\\nX_test {X_test.shape} et Y_test {Y_test.shape}\\n\")"
   ]
  },
  {
   "cell_type": "markdown",
   "metadata": {
    "id": "YyjWSgC-7gLt"
   },
   "source": [
    "**Transformation du dataframe en objet 'numpy' afin de pouvoir utiliser les données avec keras.**"
   ]
  },
  {
   "cell_type": "code",
   "execution_count": 17,
   "metadata": {
    "id": "lEjDa_zV0Buz"
   },
   "outputs": [],
   "source": [
    "X_train = X_train.to_numpy()\n",
    "Y_train = Y_train.to_numpy()\n",
    "\n",
    "X_test = X_test.to_numpy()\n",
    "Y_test = Y_test.to_numpy()"
   ]
  },
  {
   "cell_type": "code",
   "execution_count": 18,
   "metadata": {
    "id": "Utvu9SS60U8y"
   },
   "outputs": [],
   "source": [
    "X_train = X_train.reshape(X_train.shape[0], X_train.shape[1], 1)\n",
    "Y_train = Y_train.reshape(Y_train.shape[0], Y_train.shape[1], 1)\n",
    "\n",
    "X_test = X_test.reshape(X_test.shape[0], X_test.shape[1], 1)\n",
    "Y_test = Y_test.reshape(Y_test.shape[0], Y_test.shape[1], 1)"
   ]
  },
  {
   "cell_type": "markdown",
   "metadata": {
    "id": "9L05xN7d-pGS"
   },
   "source": [
    "# 4. Création du modèle neuronal\n",
    "\n",
    "\n",
    "\n"
   ]
  },
  {
   "cell_type": "markdown",
   "metadata": {
    "id": "kSeR27vwqVUa"
   },
   "source": [
    "**On sait qu'il est mathématiquement possible d'approximer n'importe quel fonction**"
   ]
  },
  {
   "cell_type": "markdown",
   "metadata": {
    "id": "rqQZ1NChr3gk"
   },
   "source": [
    "ici units ( et relu) représente :\n",
    "Dropout représente :\n",
    "Dense ( et softmax) représente :\n",
    "\n",
    "batch_size représente\n",
    "et epochs représente le nombre d'itération, le nombre de fois où la phase d'entrainement vas se répéter\n"
   ]
  },
  {
   "cell_type": "code",
   "execution_count": 19,
   "metadata": {
    "colab": {
     "base_uri": "https://localhost:8080/"
    },
    "id": "dWzCsD4a_AKf",
    "outputId": "21c1d549-a938-44cb-aa18-15efc8536a08"
   },
   "outputs": [
    {
     "name": "stdout",
     "output_type": "stream",
     "text": [
      "Model: \"sequential\"\n",
      "_________________________________________________________________\n",
      "Layer (type)                 Output Shape              Param #   \n",
      "=================================================================\n",
      "lstm (LSTM)                  (None, 64)                16896     \n",
      "_________________________________________________________________\n",
      "dropout (Dropout)            (None, 64)                0         \n",
      "_________________________________________________________________\n",
      "dense (Dense)                (None, 1)                 65        \n",
      "=================================================================\n",
      "Total params: 16,961\n",
      "Trainable params: 16,961\n",
      "Non-trainable params: 0\n",
      "_________________________________________________________________\n",
      "Epoch 1/100\n",
      "22/22 [==============================] - 1s 2ms/step - loss: 0.9438 - mean_squared_error: 0.9438\n",
      "Epoch 2/100\n",
      "22/22 [==============================] - 0s 2ms/step - loss: 0.9438 - mean_squared_error: 0.9438\n",
      "Epoch 3/100\n",
      "22/22 [==============================] - 0s 2ms/step - loss: 0.9438 - mean_squared_error: 0.9438\n",
      "Epoch 4/100\n",
      "22/22 [==============================] - 0s 2ms/step - loss: 0.9438 - mean_squared_error: 0.9438\n",
      "Epoch 5/100\n",
      "22/22 [==============================] - 0s 2ms/step - loss: 0.9438 - mean_squared_error: 0.9438\n",
      "Epoch 6/100\n",
      "22/22 [==============================] - 0s 2ms/step - loss: 0.9438 - mean_squared_error: 0.9438\n",
      "Epoch 7/100\n",
      "22/22 [==============================] - 0s 2ms/step - loss: 0.9438 - mean_squared_error: 0.9438\n",
      "Epoch 8/100\n",
      "22/22 [==============================] - 0s 2ms/step - loss: 0.9438 - mean_squared_error: 0.9438\n",
      "Epoch 9/100\n",
      "22/22 [==============================] - 0s 2ms/step - loss: 0.9438 - mean_squared_error: 0.9438\n",
      "Epoch 10/100\n",
      "22/22 [==============================] - 0s 2ms/step - loss: 0.9438 - mean_squared_error: 0.9438\n",
      "Epoch 11/100\n",
      "22/22 [==============================] - 0s 2ms/step - loss: 0.9438 - mean_squared_error: 0.9438\n",
      "Epoch 12/100\n",
      "22/22 [==============================] - 0s 2ms/step - loss: 0.9438 - mean_squared_error: 0.9438\n",
      "Epoch 13/100\n",
      "22/22 [==============================] - 0s 2ms/step - loss: 0.9438 - mean_squared_error: 0.9438\n",
      "Epoch 14/100\n",
      "22/22 [==============================] - 0s 2ms/step - loss: 0.9438 - mean_squared_error: 0.9438\n",
      "Epoch 15/100\n",
      "22/22 [==============================] - 0s 2ms/step - loss: 0.9438 - mean_squared_error: 0.9438\n",
      "Epoch 16/100\n",
      "22/22 [==============================] - 0s 2ms/step - loss: 0.9438 - mean_squared_error: 0.9438\n",
      "Epoch 17/100\n",
      "22/22 [==============================] - 0s 2ms/step - loss: 0.9438 - mean_squared_error: 0.9438\n",
      "Epoch 18/100\n",
      "22/22 [==============================] - 0s 2ms/step - loss: 0.9438 - mean_squared_error: 0.9438\n",
      "Epoch 19/100\n",
      "22/22 [==============================] - 0s 2ms/step - loss: 0.9438 - mean_squared_error: 0.9438\n",
      "Epoch 20/100\n",
      "22/22 [==============================] - 0s 2ms/step - loss: 0.9438 - mean_squared_error: 0.9438\n",
      "Epoch 21/100\n",
      "22/22 [==============================] - 0s 2ms/step - loss: 0.9438 - mean_squared_error: 0.9438\n",
      "Epoch 22/100\n",
      "22/22 [==============================] - 0s 2ms/step - loss: 0.9438 - mean_squared_error: 0.9438\n",
      "Epoch 23/100\n",
      "22/22 [==============================] - 0s 2ms/step - loss: 0.9438 - mean_squared_error: 0.9438\n",
      "Epoch 24/100\n",
      "22/22 [==============================] - 0s 2ms/step - loss: 0.9438 - mean_squared_error: 0.9438\n",
      "Epoch 25/100\n",
      "22/22 [==============================] - 0s 2ms/step - loss: 0.9438 - mean_squared_error: 0.9438\n",
      "Epoch 26/100\n",
      "22/22 [==============================] - 0s 2ms/step - loss: 0.9438 - mean_squared_error: 0.9438\n",
      "Epoch 27/100\n",
      "22/22 [==============================] - 0s 2ms/step - loss: 0.9438 - mean_squared_error: 0.9438\n",
      "Epoch 28/100\n",
      "22/22 [==============================] - 0s 2ms/step - loss: 0.9438 - mean_squared_error: 0.9438\n",
      "Epoch 29/100\n",
      "22/22 [==============================] - 0s 1ms/step - loss: 0.9438 - mean_squared_error: 0.9438\n",
      "Epoch 30/100\n",
      "22/22 [==============================] - 0s 2ms/step - loss: 0.9438 - mean_squared_error: 0.9438\n",
      "Epoch 31/100\n",
      "22/22 [==============================] - 0s 2ms/step - loss: 0.9438 - mean_squared_error: 0.9438\n",
      "Epoch 32/100\n",
      "22/22 [==============================] - 0s 2ms/step - loss: 0.9438 - mean_squared_error: 0.9438\n",
      "Epoch 33/100\n",
      "22/22 [==============================] - 0s 2ms/step - loss: 0.9438 - mean_squared_error: 0.9438\n",
      "Epoch 34/100\n",
      "22/22 [==============================] - 0s 2ms/step - loss: 0.9438 - mean_squared_error: 0.9438\n",
      "Epoch 35/100\n",
      "22/22 [==============================] - 0s 2ms/step - loss: 0.9438 - mean_squared_error: 0.9438\n",
      "Epoch 36/100\n",
      "22/22 [==============================] - 0s 2ms/step - loss: 0.9438 - mean_squared_error: 0.9438\n",
      "Epoch 37/100\n",
      "22/22 [==============================] - 0s 2ms/step - loss: 0.9438 - mean_squared_error: 0.9438\n",
      "Epoch 38/100\n",
      "22/22 [==============================] - 0s 2ms/step - loss: 0.9438 - mean_squared_error: 0.9438\n",
      "Epoch 39/100\n",
      "22/22 [==============================] - 0s 2ms/step - loss: 0.9438 - mean_squared_error: 0.9438\n",
      "Epoch 40/100\n",
      "22/22 [==============================] - 0s 2ms/step - loss: 0.9438 - mean_squared_error: 0.9438\n",
      "Epoch 41/100\n",
      "22/22 [==============================] - 0s 2ms/step - loss: 0.9438 - mean_squared_error: 0.9438\n",
      "Epoch 42/100\n",
      "22/22 [==============================] - 0s 2ms/step - loss: 0.9438 - mean_squared_error: 0.9438\n",
      "Epoch 43/100\n",
      "22/22 [==============================] - 0s 2ms/step - loss: 0.9438 - mean_squared_error: 0.9438\n",
      "Epoch 44/100\n",
      "22/22 [==============================] - 0s 2ms/step - loss: 0.9438 - mean_squared_error: 0.9438\n",
      "Epoch 45/100\n",
      "22/22 [==============================] - 0s 2ms/step - loss: 0.9438 - mean_squared_error: 0.9438\n",
      "Epoch 46/100\n",
      "22/22 [==============================] - 0s 2ms/step - loss: 0.9438 - mean_squared_error: 0.9438\n",
      "Epoch 47/100\n",
      "22/22 [==============================] - 0s 2ms/step - loss: 0.9438 - mean_squared_error: 0.9438\n",
      "Epoch 48/100\n",
      "22/22 [==============================] - 0s 2ms/step - loss: 0.9438 - mean_squared_error: 0.9438\n",
      "Epoch 49/100\n",
      "22/22 [==============================] - 0s 2ms/step - loss: 0.9438 - mean_squared_error: 0.9438\n",
      "Epoch 50/100\n",
      "22/22 [==============================] - 0s 2ms/step - loss: 0.9438 - mean_squared_error: 0.9438\n",
      "Epoch 51/100\n",
      "22/22 [==============================] - 0s 2ms/step - loss: 0.9438 - mean_squared_error: 0.9438\n",
      "Epoch 52/100\n",
      "22/22 [==============================] - 0s 2ms/step - loss: 0.9438 - mean_squared_error: 0.9438\n",
      "Epoch 53/100\n",
      "22/22 [==============================] - 0s 2ms/step - loss: 0.9438 - mean_squared_error: 0.9438\n",
      "Epoch 54/100\n",
      "22/22 [==============================] - 0s 2ms/step - loss: 0.9438 - mean_squared_error: 0.9438\n",
      "Epoch 55/100\n",
      "22/22 [==============================] - 0s 2ms/step - loss: 0.9438 - mean_squared_error: 0.9438\n",
      "Epoch 56/100\n",
      "22/22 [==============================] - 0s 2ms/step - loss: 0.9438 - mean_squared_error: 0.9438\n",
      "Epoch 57/100\n",
      "22/22 [==============================] - 0s 2ms/step - loss: 0.9438 - mean_squared_error: 0.9438\n",
      "Epoch 58/100\n",
      "22/22 [==============================] - 0s 2ms/step - loss: 0.9438 - mean_squared_error: 0.9438\n",
      "Epoch 59/100\n",
      "22/22 [==============================] - 0s 2ms/step - loss: 0.9438 - mean_squared_error: 0.9438\n",
      "Epoch 60/100\n",
      "22/22 [==============================] - 0s 2ms/step - loss: 0.9438 - mean_squared_error: 0.9438\n",
      "Epoch 61/100\n",
      "22/22 [==============================] - 0s 2ms/step - loss: 0.9438 - mean_squared_error: 0.9438\n",
      "Epoch 62/100\n",
      "22/22 [==============================] - 0s 2ms/step - loss: 0.9438 - mean_squared_error: 0.9438\n",
      "Epoch 63/100\n",
      "22/22 [==============================] - 0s 2ms/step - loss: 0.9438 - mean_squared_error: 0.9438\n",
      "Epoch 64/100\n",
      "22/22 [==============================] - 0s 2ms/step - loss: 0.9438 - mean_squared_error: 0.9438\n",
      "Epoch 65/100\n",
      "22/22 [==============================] - 0s 2ms/step - loss: 0.9438 - mean_squared_error: 0.9438\n",
      "Epoch 66/100\n",
      "22/22 [==============================] - 0s 2ms/step - loss: 0.9438 - mean_squared_error: 0.9438\n",
      "Epoch 67/100\n",
      "22/22 [==============================] - 0s 2ms/step - loss: 0.9438 - mean_squared_error: 0.9438\n",
      "Epoch 68/100\n",
      "22/22 [==============================] - 0s 2ms/step - loss: 0.9438 - mean_squared_error: 0.9438\n",
      "Epoch 69/100\n",
      "22/22 [==============================] - 0s 2ms/step - loss: 0.9438 - mean_squared_error: 0.9438\n",
      "Epoch 70/100\n",
      "22/22 [==============================] - 0s 1ms/step - loss: 0.9438 - mean_squared_error: 0.9438\n",
      "Epoch 71/100\n",
      "22/22 [==============================] - 0s 2ms/step - loss: 0.9438 - mean_squared_error: 0.9438\n",
      "Epoch 72/100\n",
      "22/22 [==============================] - 0s 2ms/step - loss: 0.9438 - mean_squared_error: 0.9438\n",
      "Epoch 73/100\n",
      "22/22 [==============================] - 0s 2ms/step - loss: 0.9438 - mean_squared_error: 0.9438\n",
      "Epoch 74/100\n",
      "22/22 [==============================] - 0s 2ms/step - loss: 0.9438 - mean_squared_error: 0.9438\n",
      "Epoch 75/100\n",
      "22/22 [==============================] - 0s 2ms/step - loss: 0.9438 - mean_squared_error: 0.9438\n",
      "Epoch 76/100\n",
      "22/22 [==============================] - 0s 2ms/step - loss: 0.9438 - mean_squared_error: 0.9438\n",
      "Epoch 77/100\n",
      "22/22 [==============================] - 0s 2ms/step - loss: 0.9438 - mean_squared_error: 0.9438\n",
      "Epoch 78/100\n",
      "22/22 [==============================] - 0s 2ms/step - loss: 0.9438 - mean_squared_error: 0.9438\n",
      "Epoch 79/100\n",
      "22/22 [==============================] - 0s 2ms/step - loss: 0.9438 - mean_squared_error: 0.9438\n",
      "Epoch 80/100\n",
      "22/22 [==============================] - 0s 2ms/step - loss: 0.9438 - mean_squared_error: 0.9438\n",
      "Epoch 81/100\n",
      "22/22 [==============================] - 0s 2ms/step - loss: 0.9438 - mean_squared_error: 0.9438\n",
      "Epoch 82/100\n",
      "22/22 [==============================] - 0s 2ms/step - loss: 0.9438 - mean_squared_error: 0.9438\n",
      "Epoch 83/100\n",
      "22/22 [==============================] - 0s 2ms/step - loss: 0.9438 - mean_squared_error: 0.9438\n",
      "Epoch 84/100\n",
      "22/22 [==============================] - 0s 2ms/step - loss: 0.9438 - mean_squared_error: 0.9438\n",
      "Epoch 85/100\n",
      "22/22 [==============================] - 0s 2ms/step - loss: 0.9438 - mean_squared_error: 0.9438\n",
      "Epoch 86/100\n",
      "22/22 [==============================] - 0s 2ms/step - loss: 0.9438 - mean_squared_error: 0.9438\n",
      "Epoch 87/100\n",
      "22/22 [==============================] - 0s 2ms/step - loss: 0.9438 - mean_squared_error: 0.9438\n",
      "Epoch 88/100\n",
      "22/22 [==============================] - 0s 2ms/step - loss: 0.9438 - mean_squared_error: 0.9438\n",
      "Epoch 89/100\n",
      "22/22 [==============================] - 0s 2ms/step - loss: 0.9438 - mean_squared_error: 0.9438\n",
      "Epoch 90/100\n",
      "22/22 [==============================] - 0s 2ms/step - loss: 0.9438 - mean_squared_error: 0.9438\n",
      "Epoch 91/100\n",
      "22/22 [==============================] - 0s 2ms/step - loss: 0.9438 - mean_squared_error: 0.9438\n",
      "Epoch 92/100\n",
      "22/22 [==============================] - 0s 2ms/step - loss: 0.9438 - mean_squared_error: 0.9438\n",
      "Epoch 93/100\n",
      "22/22 [==============================] - 0s 2ms/step - loss: 0.9438 - mean_squared_error: 0.9438\n",
      "Epoch 94/100\n",
      "22/22 [==============================] - 0s 2ms/step - loss: 0.9438 - mean_squared_error: 0.9438\n",
      "Epoch 95/100\n",
      "22/22 [==============================] - 0s 2ms/step - loss: 0.9438 - mean_squared_error: 0.9438\n",
      "Epoch 96/100\n",
      "22/22 [==============================] - 0s 2ms/step - loss: 0.9438 - mean_squared_error: 0.9438\n",
      "Epoch 97/100\n",
      "22/22 [==============================] - 0s 2ms/step - loss: 0.9438 - mean_squared_error: 0.9438\n",
      "Epoch 98/100\n",
      "22/22 [==============================] - 0s 2ms/step - loss: 0.9438 - mean_squared_error: 0.9438\n",
      "Epoch 99/100\n",
      "22/22 [==============================] - 0s 2ms/step - loss: 0.9438 - mean_squared_error: 0.9438\n",
      "Epoch 100/100\n",
      "22/22 [==============================] - 0s 2ms/step - loss: 0.9438 - mean_squared_error: 0.9438\n"
     ]
    },
    {
     "data": {
      "text/plain": [
       "<keras.callbacks.History at 0x1e8a3a4acc8>"
      ]
     },
     "execution_count": 19,
     "metadata": {},
     "output_type": "execute_result"
    }
   ],
   "source": [
    "my_model = Sequential()\n",
    "my_model.add(LSTM(units = 64,activation='relu',input_shape = (5,1)))\n",
    "my_model.add(Dropout(0.4))\n",
    "my_model.add(Dense(1,activation='softmax'))\n",
    "\n",
    "my_model.compile(loss = 'mse',optimizer = 'adam', metrics = ['mean_squared_error'])\n",
    "my_model.summary()\n",
    "\n",
    "\n",
    "my_model.fit(X_train,Y_train,batch_size = 5,epochs = 100)"
   ]
  },
  {
   "cell_type": "markdown",
   "metadata": {
    "id": "jBdOc6ifzjvg"
   },
   "source": [
    "# 5. Entrainement du modèle"
   ]
  },
  {
   "cell_type": "code",
   "execution_count": 20,
   "metadata": {
    "colab": {
     "base_uri": "https://localhost:8080/"
    },
    "id": "pioHmnrRBKG2",
    "outputId": "cad638bd-42ab-46f5-a9fa-1b46e091c535",
    "scrolled": true
   },
   "outputs": [
    {
     "name": "stdout",
     "output_type": "stream",
     "text": [
      "Epoch 1/100\n",
      "22/22 - 0s - loss: 0.9438 - mean_squared_error: 0.9438\n",
      "Epoch 2/100\n",
      "22/22 - 0s - loss: 0.9438 - mean_squared_error: 0.9438\n",
      "Epoch 3/100\n",
      "22/22 - 0s - loss: 0.9438 - mean_squared_error: 0.9438\n",
      "Epoch 4/100\n",
      "22/22 - 0s - loss: 0.9438 - mean_squared_error: 0.9438\n",
      "Epoch 5/100\n",
      "22/22 - 0s - loss: 0.9438 - mean_squared_error: 0.9438\n",
      "Epoch 6/100\n",
      "22/22 - 0s - loss: 0.9438 - mean_squared_error: 0.9438\n",
      "Epoch 7/100\n",
      "22/22 - 0s - loss: 0.9438 - mean_squared_error: 0.9438\n",
      "Epoch 8/100\n",
      "22/22 - 0s - loss: 0.9438 - mean_squared_error: 0.9438\n",
      "Epoch 9/100\n",
      "22/22 - 0s - loss: 0.9438 - mean_squared_error: 0.9438\n",
      "Epoch 10/100\n",
      "22/22 - 0s - loss: 0.9438 - mean_squared_error: 0.9438\n",
      "Epoch 11/100\n",
      "22/22 - 0s - loss: 0.9438 - mean_squared_error: 0.9438\n",
      "Epoch 12/100\n",
      "22/22 - 0s - loss: 0.9438 - mean_squared_error: 0.9438\n",
      "Epoch 13/100\n",
      "22/22 - 0s - loss: 0.9438 - mean_squared_error: 0.9438\n",
      "Epoch 14/100\n",
      "22/22 - 0s - loss: 0.9438 - mean_squared_error: 0.9438\n",
      "Epoch 15/100\n",
      "22/22 - 0s - loss: 0.9438 - mean_squared_error: 0.9438\n",
      "Epoch 16/100\n",
      "22/22 - 0s - loss: 0.9438 - mean_squared_error: 0.9438\n",
      "Epoch 17/100\n",
      "22/22 - 0s - loss: 0.9438 - mean_squared_error: 0.9438\n",
      "Epoch 18/100\n",
      "22/22 - 0s - loss: 0.9438 - mean_squared_error: 0.9438\n",
      "Epoch 19/100\n",
      "22/22 - 0s - loss: 0.9438 - mean_squared_error: 0.9438\n",
      "Epoch 20/100\n",
      "22/22 - 0s - loss: 0.9438 - mean_squared_error: 0.9438\n",
      "Epoch 21/100\n",
      "22/22 - 0s - loss: 0.9438 - mean_squared_error: 0.9438\n",
      "Epoch 22/100\n",
      "22/22 - 0s - loss: 0.9438 - mean_squared_error: 0.9438\n",
      "Epoch 23/100\n",
      "22/22 - 0s - loss: 0.9438 - mean_squared_error: 0.9438\n",
      "Epoch 24/100\n",
      "22/22 - 0s - loss: 0.9438 - mean_squared_error: 0.9438\n",
      "Epoch 25/100\n",
      "22/22 - 0s - loss: 0.9438 - mean_squared_error: 0.9438\n",
      "Epoch 26/100\n",
      "22/22 - 0s - loss: 0.9438 - mean_squared_error: 0.9438\n",
      "Epoch 27/100\n",
      "22/22 - 0s - loss: 0.9438 - mean_squared_error: 0.9438\n",
      "Epoch 28/100\n",
      "22/22 - 0s - loss: 0.9438 - mean_squared_error: 0.9438\n",
      "Epoch 29/100\n",
      "22/22 - 0s - loss: 0.9438 - mean_squared_error: 0.9438\n",
      "Epoch 30/100\n",
      "22/22 - 0s - loss: 0.9438 - mean_squared_error: 0.9438\n",
      "Epoch 31/100\n",
      "22/22 - 0s - loss: 0.9438 - mean_squared_error: 0.9438\n",
      "Epoch 32/100\n",
      "22/22 - 0s - loss: 0.9438 - mean_squared_error: 0.9438\n",
      "Epoch 33/100\n",
      "22/22 - 0s - loss: 0.9438 - mean_squared_error: 0.9438\n",
      "Epoch 34/100\n",
      "22/22 - 0s - loss: 0.9438 - mean_squared_error: 0.9438\n",
      "Epoch 35/100\n",
      "22/22 - 0s - loss: 0.9438 - mean_squared_error: 0.9438\n",
      "Epoch 36/100\n",
      "22/22 - 0s - loss: 0.9438 - mean_squared_error: 0.9438\n",
      "Epoch 37/100\n",
      "22/22 - 0s - loss: 0.9438 - mean_squared_error: 0.9438\n",
      "Epoch 38/100\n",
      "22/22 - 0s - loss: 0.9438 - mean_squared_error: 0.9438\n",
      "Epoch 39/100\n",
      "22/22 - 0s - loss: 0.9438 - mean_squared_error: 0.9438\n",
      "Epoch 40/100\n",
      "22/22 - 0s - loss: 0.9438 - mean_squared_error: 0.9438\n",
      "Epoch 41/100\n",
      "22/22 - 0s - loss: 0.9438 - mean_squared_error: 0.9438\n",
      "Epoch 42/100\n",
      "22/22 - 0s - loss: 0.9438 - mean_squared_error: 0.9438\n",
      "Epoch 43/100\n",
      "22/22 - 0s - loss: 0.9438 - mean_squared_error: 0.9438\n",
      "Epoch 44/100\n",
      "22/22 - 0s - loss: 0.9438 - mean_squared_error: 0.9438\n",
      "Epoch 45/100\n",
      "22/22 - 0s - loss: 0.9438 - mean_squared_error: 0.9438\n",
      "Epoch 46/100\n",
      "22/22 - 0s - loss: 0.9438 - mean_squared_error: 0.9438\n",
      "Epoch 47/100\n",
      "22/22 - 0s - loss: 0.9438 - mean_squared_error: 0.9438\n",
      "Epoch 48/100\n",
      "22/22 - 0s - loss: 0.9438 - mean_squared_error: 0.9438\n",
      "Epoch 49/100\n",
      "22/22 - 0s - loss: 0.9438 - mean_squared_error: 0.9438\n",
      "Epoch 50/100\n",
      "22/22 - 0s - loss: 0.9438 - mean_squared_error: 0.9438\n",
      "Epoch 51/100\n",
      "22/22 - 0s - loss: 0.9438 - mean_squared_error: 0.9438\n",
      "Epoch 52/100\n",
      "22/22 - 0s - loss: 0.9438 - mean_squared_error: 0.9438\n",
      "Epoch 53/100\n",
      "22/22 - 0s - loss: 0.9438 - mean_squared_error: 0.9438\n",
      "Epoch 54/100\n",
      "22/22 - 0s - loss: 0.9438 - mean_squared_error: 0.9438\n",
      "Epoch 55/100\n",
      "22/22 - 0s - loss: 0.9438 - mean_squared_error: 0.9438\n",
      "Epoch 56/100\n",
      "22/22 - 0s - loss: 0.9438 - mean_squared_error: 0.9438\n",
      "Epoch 57/100\n",
      "22/22 - 0s - loss: 0.9438 - mean_squared_error: 0.9438\n",
      "Epoch 58/100\n",
      "22/22 - 0s - loss: 0.9438 - mean_squared_error: 0.9438\n",
      "Epoch 59/100\n",
      "22/22 - 0s - loss: 0.9438 - mean_squared_error: 0.9438\n",
      "Epoch 60/100\n",
      "22/22 - 0s - loss: 0.9438 - mean_squared_error: 0.9438\n",
      "Epoch 61/100\n",
      "22/22 - 0s - loss: 0.9438 - mean_squared_error: 0.9438\n",
      "Epoch 62/100\n",
      "22/22 - 0s - loss: 0.9438 - mean_squared_error: 0.9438\n",
      "Epoch 63/100\n",
      "22/22 - 0s - loss: 0.9438 - mean_squared_error: 0.9438\n",
      "Epoch 64/100\n",
      "22/22 - 0s - loss: 0.9438 - mean_squared_error: 0.9438\n",
      "Epoch 65/100\n",
      "22/22 - 0s - loss: 0.9438 - mean_squared_error: 0.9438\n",
      "Epoch 66/100\n",
      "22/22 - 0s - loss: 0.9438 - mean_squared_error: 0.9438\n",
      "Epoch 67/100\n",
      "22/22 - 0s - loss: 0.9438 - mean_squared_error: 0.9438\n",
      "Epoch 68/100\n",
      "22/22 - 0s - loss: 0.9438 - mean_squared_error: 0.9438\n",
      "Epoch 69/100\n",
      "22/22 - 0s - loss: 0.9438 - mean_squared_error: 0.9438\n",
      "Epoch 70/100\n",
      "22/22 - 0s - loss: 0.9438 - mean_squared_error: 0.9438\n",
      "Epoch 71/100\n",
      "22/22 - 0s - loss: 0.9438 - mean_squared_error: 0.9438\n",
      "Epoch 72/100\n",
      "22/22 - 0s - loss: 0.9438 - mean_squared_error: 0.9438\n",
      "Epoch 73/100\n",
      "22/22 - 0s - loss: 0.9438 - mean_squared_error: 0.9438\n",
      "Epoch 74/100\n",
      "22/22 - 0s - loss: 0.9438 - mean_squared_error: 0.9438\n",
      "Epoch 75/100\n",
      "22/22 - 0s - loss: 0.9438 - mean_squared_error: 0.9438\n",
      "Epoch 76/100\n",
      "22/22 - 0s - loss: 0.9438 - mean_squared_error: 0.9438\n",
      "Epoch 77/100\n",
      "22/22 - 0s - loss: 0.9438 - mean_squared_error: 0.9438\n",
      "Epoch 78/100\n",
      "22/22 - 0s - loss: 0.9438 - mean_squared_error: 0.9438\n",
      "Epoch 79/100\n",
      "22/22 - 0s - loss: 0.9438 - mean_squared_error: 0.9438\n",
      "Epoch 80/100\n",
      "22/22 - 0s - loss: 0.9438 - mean_squared_error: 0.9438\n",
      "Epoch 81/100\n",
      "22/22 - 0s - loss: 0.9438 - mean_squared_error: 0.9438\n",
      "Epoch 82/100\n",
      "22/22 - 0s - loss: 0.9438 - mean_squared_error: 0.9438\n",
      "Epoch 83/100\n",
      "22/22 - 0s - loss: 0.9438 - mean_squared_error: 0.9438\n",
      "Epoch 84/100\n",
      "22/22 - 0s - loss: 0.9438 - mean_squared_error: 0.9438\n",
      "Epoch 85/100\n",
      "22/22 - 0s - loss: 0.9438 - mean_squared_error: 0.9438\n",
      "Epoch 86/100\n",
      "22/22 - 0s - loss: 0.9438 - mean_squared_error: 0.9438\n",
      "Epoch 87/100\n",
      "22/22 - 0s - loss: 0.9438 - mean_squared_error: 0.9438\n",
      "Epoch 88/100\n",
      "22/22 - 0s - loss: 0.9438 - mean_squared_error: 0.9438\n",
      "Epoch 89/100\n",
      "22/22 - 0s - loss: 0.9438 - mean_squared_error: 0.9438\n",
      "Epoch 90/100\n",
      "22/22 - 0s - loss: 0.9438 - mean_squared_error: 0.9438\n",
      "Epoch 91/100\n",
      "22/22 - 0s - loss: 0.9438 - mean_squared_error: 0.9438\n",
      "Epoch 92/100\n",
      "22/22 - 0s - loss: 0.9438 - mean_squared_error: 0.9438\n",
      "Epoch 93/100\n",
      "22/22 - 0s - loss: 0.9438 - mean_squared_error: 0.9438\n",
      "Epoch 94/100\n",
      "22/22 - 0s - loss: 0.9438 - mean_squared_error: 0.9438\n",
      "Epoch 95/100\n",
      "22/22 - 0s - loss: 0.9438 - mean_squared_error: 0.9438\n",
      "Epoch 96/100\n",
      "22/22 - 0s - loss: 0.9438 - mean_squared_error: 0.9438\n",
      "Epoch 97/100\n",
      "22/22 - 0s - loss: 0.9438 - mean_squared_error: 0.9438\n",
      "Epoch 98/100\n",
      "22/22 - 0s - loss: 0.9438 - mean_squared_error: 0.9438\n",
      "Epoch 99/100\n",
      "22/22 - 0s - loss: 0.9438 - mean_squared_error: 0.9438\n",
      "Epoch 100/100\n",
      "22/22 - 0s - loss: 0.9438 - mean_squared_error: 0.9438\n"
     ]
    },
    {
     "data": {
      "text/plain": [
       "<keras.callbacks.History at 0x1e8a5de04c8>"
      ]
     },
     "execution_count": 20,
     "metadata": {},
     "output_type": "execute_result"
    }
   ],
   "source": [
    "my_model.fit(\n",
    "  X_train, # training data\n",
    "  Y_train, # training targets\n",
    "  epochs=100,\n",
    "  batch_size=5,\n",
    "  verbose=2\n",
    "  )"
   ]
  },
  {
   "cell_type": "markdown",
   "metadata": {
    "id": "vpMVT-IyzwD7"
   },
   "source": [
    "# 6. Validation du modèle"
   ]
  },
  {
   "cell_type": "code",
   "execution_count": 21,
   "metadata": {
    "id": "A4NwZkhZFYH4"
   },
   "outputs": [],
   "source": [
    "trainPredict = my_model.predict(X_train)\n",
    "testPredict = my_model.predict(X_test)"
   ]
  },
  {
   "cell_type": "code",
   "execution_count": 22,
   "metadata": {
    "colab": {
     "base_uri": "https://localhost:8080/"
    },
    "id": "q1bvmwM4xAuA",
    "outputId": "967ff540-1299-49d2-e940-2d24734a10a5"
   },
   "outputs": [
    {
     "name": "stdout",
     "output_type": "stream",
     "text": [
      "la taile de testPredict (27, 1)\n",
      "la taile de trainpredict (110, 1)\n",
      "La taille de Y_train (110, 1, 1) La taille de Y_test (27, 1, 1)\n",
      "La taille reshape de Y_train (110, 1) La taille reshape de Y_test (27, 1) \n",
      "\n",
      "La valeur de l'erreur est : 0.934700719643572\n"
     ]
    }
   ],
   "source": [
    "print(\"la taile de testPredict\",testPredict.shape)\n",
    "print(\"la taile de trainpredict\",trainPredict.shape)\n",
    "print(\"La taille de Y_train\",Y_train.shape,\"La taille de Y_test\",Y_test.shape)\n",
    "\n",
    "X_train = X_train.reshape(X_train.shape[0], X_train.shape[1])\n",
    "Y_train = Y_train.reshape(Y_train.shape[0], Y_train.shape[1])\n",
    "\n",
    "X_test = X_test.reshape(X_test.shape[0], X_test.shape[1])\n",
    "Y_test = Y_test.reshape(Y_test.shape[0], Y_test.shape[1])\n",
    "\n",
    "print(\"La taille reshape de Y_train\",Y_train.shape,\"La taille reshape de Y_test\",Y_test.shape,\"\\n\")\n",
    "\n",
    "\n",
    "testScore = mean_squared_error(Y_test,testPredict)\n",
    "print(\"La valeur de l'erreur est :\",testScore)"
   ]
  },
  {
   "cell_type": "code",
   "execution_count": 23,
   "metadata": {
    "colab": {
     "base_uri": "https://localhost:8080/",
     "height": 350
    },
    "id": "r-wPmSp-ZCnd",
    "outputId": "da7750f7-06e1-4cef-bafb-1bc5f74aa9c3"
   },
   "outputs": [],
   "source": [
    "# plt.plot(X_train,trainPredict)\n",
    "# # plt.plot(X_train,Y_train)"
   ]
  },
  {
   "cell_type": "markdown",
   "metadata": {
    "id": "NwmO-ZqNa3FF"
   },
   "source": [
    "# Bibliographie\n",
    "\n",
    "https://victorzhou.com/blog/keras-neural-network-tutorial/\n",
    "\n",
    "https://sites.google.com/site/nttrungmtwiki/home/it/data-mining/time-series-analysis/the-promise-of-recurrent-neural-networks-for-time-series-forecasting/time-series-prediction-with-lstm-recurrent-neural-networks-in-python-with-keras\n",
    "\n",
    "https://www.actuia.com/keras/debuter-avec-le-modele-sequentiel-de-keras/\n",
    "\n",
    "https://monkcage.github.io/blog/ai/2019/01/28/time_series_forecast.html\n",
    "\n",
    "https://www.kaggle.com/nitinsss/time-series-prediction-with-keras-for-beginners\n",
    "\n",
    "https://stackabuse.com/solving-sequence-problems-with-lstm-in-keras/"
   ]
  }
 ],
 "metadata": {
  "colab": {
   "collapsed_sections": [],
   "name": "PV_01.ipynb",
   "provenance": []
  },
  "kernelspec": {
   "display_name": "Python 3 (ipykernel)",
   "language": "python",
   "name": "python3"
  },
  "language_info": {
   "codemirror_mode": {
    "name": "ipython",
    "version": 3
   },
   "file_extension": ".py",
   "mimetype": "text/x-python",
   "name": "python",
   "nbconvert_exporter": "python",
   "pygments_lexer": "ipython3",
   "version": "3.7.8"
  }
 },
 "nbformat": 4,
 "nbformat_minor": 1
}
